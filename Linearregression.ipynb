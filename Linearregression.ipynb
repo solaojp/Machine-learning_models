{
 "cells": [
  {
   "cell_type": "code",
   "execution_count": 1,
   "metadata": {},
   "outputs": [
    {
     "name": "stdout",
     "output_type": "stream",
     "text": [
      "   Unnamed: 0  BOROUGH   NEIGHBORHOOD  \\\n",
      "0           4        1  ALPHABET CITY   \n",
      "1           5        1  ALPHABET CITY   \n",
      "2           6        1  ALPHABET CITY   \n",
      "3           7        1  ALPHABET CITY   \n",
      "4           8        1  ALPHABET CITY   \n",
      "\n",
      "                       BUILDING CLASS CATEGORY TAX CLASS AT PRESENT  BLOCK  \\\n",
      "0  07 RENTALS - WALKUP APARTMENTS                                2A    392   \n",
      "1  07 RENTALS - WALKUP APARTMENTS                                 2    399   \n",
      "2  07 RENTALS - WALKUP APARTMENTS                                 2    399   \n",
      "3  07 RENTALS - WALKUP APARTMENTS                                2B    402   \n",
      "4  07 RENTALS - WALKUP APARTMENTS                                2A    404   \n",
      "\n",
      "   LOT EASE-MENT BUILDING CLASS AT PRESENT                 ADDRESS  ...  \\\n",
      "0    6                                  C2            153 AVENUE B  ...   \n",
      "1   26                                  C7   234 EAST 4TH   STREET  ...   \n",
      "2   39                                  C7   197 EAST 3RD   STREET  ...   \n",
      "3   21                                  C4     154 EAST 7TH STREET  ...   \n",
      "4   55                                  C2  301 EAST 10TH   STREET  ...   \n",
      "\n",
      "  RESIDENTIAL UNITS  COMMERCIAL UNITS  TOTAL UNITS  LAND SQUARE FEET  \\\n",
      "0                 5                 0            5              1633   \n",
      "1                28                 3           31              4616   \n",
      "2                16                 1           17              2212   \n",
      "3                10                 0           10              2272   \n",
      "4                 6                 0            6              2369   \n",
      "\n",
      "   GROSS SQUARE FEET YEAR BUILT TAX CLASS AT TIME OF SALE  \\\n",
      "0               6440       1900                         2   \n",
      "1              18690       1900                         2   \n",
      "2               7803       1900                         2   \n",
      "3               6794       1913                         2   \n",
      "4               4615       1900                         2   \n",
      "\n",
      "   BUILDING CLASS AT TIME OF SALE  SALE PRICE            SALE DATE  \n",
      "0                              C2     6625000  2017-07-19 00:00:00  \n",
      "1                              C7         -    2016-12-14 00:00:00  \n",
      "2                              C7         -    2016-12-09 00:00:00  \n",
      "3                              C4     3936272  2016-09-23 00:00:00  \n",
      "4                              C2     8000000  2016-11-17 00:00:00  \n",
      "\n",
      "[5 rows x 22 columns]\n",
      "2\n",
      "(84548, 22)\n"
     ]
    }
   ],
   "source": [
    "# Data Manupulation\n",
    "import numpy as np\n",
    "import pandas as pd\n",
    "# Plotting graphs\n",
    "import matplotlib.pyplot as plt\n",
    "\n",
    "# CSV File - Read\n",
    "df = pd.read_csv('nyc-rolling-sales.csv')\n",
    "print(df.head(5)) \n",
    "print(df.ndim)\n",
    "print(df.shape)"
   ]
  },
  {
   "cell_type": "code",
   "execution_count": 6,
   "metadata": {},
   "outputs": [
    {
     "name": "stdout",
     "output_type": "stream",
     "text": [
      "   Unnamed: 0  BOROUGH   NEIGHBORHOOD BUILDING CLASS CATEGORY  \\\n",
      "0           4        1  ALPHABET CITY                       0   \n",
      "1           5        1  ALPHABET CITY                       0   \n",
      "2           6        1  ALPHABET CITY                       0   \n",
      "3           7        1  ALPHABET CITY                       0   \n",
      "4           8        1  ALPHABET CITY                       0   \n",
      "\n",
      "  TAX CLASS AT PRESENT  BLOCK  LOT EASE-MENT BUILDING CLASS AT PRESENT  \\\n",
      "0                   2A    392    6                                  C2   \n",
      "1                    2    399   26                                  C7   \n",
      "2                    2    399   39                                  C7   \n",
      "3                   2B    402   21                                  C4   \n",
      "4                   2A    404   55                                  C2   \n",
      "\n",
      "                  ADDRESS  ... Resi  Commer  Total    LS     GS YEAR BUILT  \\\n",
      "0            153 AVENUE B  ...    5       0      5  1633   6440       1900   \n",
      "1   234 EAST 4TH   STREET  ...   28       3     31  4616  18690       1900   \n",
      "2   197 EAST 3RD   STREET  ...   16       1     17  2212   7803       1900   \n",
      "3     154 EAST 7TH STREET  ...   10       0     10  2272   6794       1913   \n",
      "4  301 EAST 10TH   STREET  ...    6       0      6  2369   4615       1900   \n",
      "\n",
      "  TAX CLASS AT TIME OF SALE  BUILDING CLASS AT TIME OF SALE     Sale SALE DATE  \n",
      "0                         2                              C2  6625000         0  \n",
      "1                         2                              C7        0         0  \n",
      "2                         2                              C7        0         0  \n",
      "3                         2                              C4  3936272         0  \n",
      "4                         2                              C2  8000000         0  \n",
      "\n",
      "[5 rows x 22 columns]\n"
     ]
    }
   ],
   "source": [
    "newdf = df.replace(r'-', 0, regex=True)\n",
    "newdf = newdf.fillna(0)\n",
    "newdf = newdf.rename({\"SALE PRICE\":\"Sale\",\"RESIDENTIAL UNITS\": \"Resi\", \"COMMERCIAL UNITS\": \"Commer\",\"TOTAL UNITS\":\"Total\",\"LAND SQUARE FEET\":\"LS\",\"GROSS SQUARE FEET\":\"GS\"},axis = 'columns')\n",
    "print(newdf.head())"
   ]
  },
  {
   "cell_type": "code",
   "execution_count": 12,
   "metadata": {},
   "outputs": [
    {
     "name": "stdout",
     "output_type": "stream",
     "text": [
      "       Resi  Commer  Total      LS     GS      Sale\n",
      "0         5       0      5    1633   6440   6625000\n",
      "1        28       3     31    4616  18690         0\n",
      "2        16       1     17    2212   7803         0\n",
      "3        10       0     10    2272   6794   3936272\n",
      "4         6       0      6    2369   4615   8000000\n",
      "5        20       0     20    2581   9730         0\n",
      "6         8       0      8    1750   4226   3192840\n",
      "7        44       2     46    5163  21007         0\n",
      "8        15       0     15    1534   9198         0\n",
      "9        24       0     24    4489  18523  16232000\n",
      "10       30       4     34    4295  21328         0\n",
      "11       10       0     10    3717  12350  10350000\n",
      "12        0       0      0       0      0         1\n",
      "13        0       0      0       0      0    499000\n",
      "14        0       0      0       0      0        10\n",
      "15        0       0      0       0      0    529500\n",
      "16        0       0      0       0      0    423000\n",
      "17        0       0      0       0      0    501000\n",
      "18        0       0      0       0      0    450000\n",
      "19        0       0      0       0      0    510000\n",
      "20        0       0      0       0      0         0\n",
      "21        0       0      0       0      0    350000\n",
      "22       24       0     24    4131  16776  11900000\n",
      "23        0       0      0       0      0  11900000\n",
      "24        0       0      0       0      0    350000\n",
      "25        0       0      0       0      0    404000\n",
      "26        0       0      0       0      0    535000\n",
      "27        0       0      0       0      0   1400000\n",
      "28        0       0      0       0      0    866000\n",
      "29        0       0      0       0      0    355000\n",
      "...     ...     ...    ...     ...    ...       ...\n",
      "84518     2       0      2   11100   3560    875000\n",
      "84519     2       0      2   21528   2650    875000\n",
      "84520     2       0      2    5260   2600    840000\n",
      "84521     2       0      2    8306   2600    772500\n",
      "84522     2       0      2    5060   2600    740000\n",
      "84523     2       0      2    3288   1916         0\n",
      "84524     2       0      2    2986   1820         0\n",
      "84525     2       0      2    2490   1530         0\n",
      "84526     2       0      2    2337   1964    590000\n",
      "84527     2       0      2    2429   1798    580000\n",
      "84528     2       0      2    3936   1470    550000\n",
      "84529     2       0      2    6268   2206    545000\n",
      "84530     2       0      2   10935   2683    800000\n",
      "84531     2       0      2    4300   2170    642500\n",
      "84532     2       0      2    4700   2170    408092\n",
      "84533     2       0      2    3985   2700    600000\n",
      "84534     2       0      2    3801   2704    610000\n",
      "84535     2       0      2    7885   2704    645000\n",
      "84536     2       0      2    3800   2700    168000\n",
      "84537     2       0      2    4350   2840    625000\n",
      "84538     2       0      2    3215   1300         0\n",
      "84539     2       0      2    3016   1300         0\n",
      "84540     2       0      2    3325   1300    509000\n",
      "84541     2       0      2   11088   2160    648000\n",
      "84542     2       0      2    3020   1800         0\n",
      "84543     2       0      2    2400   2575    450000\n",
      "84544     2       0      2    2498   2377    550000\n",
      "84545     2       0      2    4000   1496    460000\n",
      "84546     0       7      7  208033  64117  11693337\n",
      "84547     0       1      1   10796   2400     69300\n",
      "\n",
      "[84548 rows x 6 columns]\n"
     ]
    }
   ],
   "source": [
    "df1 = newdf.loc[:,['Resi','Commer','Total','LS','GS','Sale']]\n",
    "print(df1)"
   ]
  },
  {
   "cell_type": "code",
   "execution_count": 13,
   "metadata": {},
   "outputs": [],
   "source": [
    "import numpy as np\n",
    "import statsmodels.api as sm\n",
    "import statsmodels.formula.api as smf"
   ]
  },
  {
   "cell_type": "code",
   "execution_count": 14,
   "metadata": {},
   "outputs": [
    {
     "name": "stdout",
     "output_type": "stream",
     "text": [
      "                            OLS Regression Results                            \n",
      "==============================================================================\n",
      "Dep. Variable:                  Total   R-squared:                       1.000\n",
      "Model:                            OLS   Adj. R-squared:                  1.000\n",
      "Method:                 Least Squares   F-statistic:                 4.751e+08\n",
      "Date:                Thu, 27 Jun 2019   Prob (F-statistic):               0.00\n",
      "Time:                        22:52:13   Log-Likelihood:                 25506.\n",
      "No. Observations:               84548   AIC:                        -5.101e+04\n",
      "Df Residuals:                   84545   BIC:                        -5.098e+04\n",
      "Df Model:                           2                                         \n",
      "Covariance Type:            nonrobust                                         \n",
      "==============================================================================\n",
      "                 coef    std err          t      P>|t|      [0.025      0.975]\n",
      "------------------------------------------------------------------------------\n",
      "Intercept      0.0309      0.001     49.755      0.000       0.030       0.032\n",
      "Resi           0.9998   3.68e-05   2.72e+04      0.000       1.000       1.000\n",
      "Commer         0.9999   7.06e-05   1.42e+04      0.000       1.000       1.000\n",
      "==============================================================================\n",
      "Omnibus:                    68793.705   Durbin-Watson:                   0.243\n",
      "Prob(Omnibus):                  0.000   Jarque-Bera (JB):         49268012.654\n",
      "Skew:                           2.735   Prob(JB):                         0.00\n",
      "Kurtosis:                     121.133   Cond. No.                         17.0\n",
      "==============================================================================\n",
      "\n",
      "Warnings:\n",
      "[1] Standard Errors assume that the covariance matrix of the errors is correctly specified.\n"
     ]
    }
   ],
   "source": [
    "results = smf.ols('Total ~ Resi + Commer', data=df1).fit()\n",
    "print(results.summary())"
   ]
  },
  {
   "cell_type": "code",
   "execution_count": null,
   "metadata": {},
   "outputs": [],
   "source": []
  }
 ],
 "metadata": {
  "kernelspec": {
   "display_name": "Python 3",
   "language": "python",
   "name": "python3"
  },
  "language_info": {
   "codemirror_mode": {
    "name": "ipython",
    "version": 3
   },
   "file_extension": ".py",
   "mimetype": "text/x-python",
   "name": "python",
   "nbconvert_exporter": "python",
   "pygments_lexer": "ipython3",
   "version": "3.7.3"
  }
 },
 "nbformat": 4,
 "nbformat_minor": 2
}
